{
 "cells": [
  {
   "cell_type": "code",
   "execution_count": 2,
   "metadata": {
    "collapsed": true
   },
   "outputs": [],
   "source": [
    "from os import path"
   ]
  },
  {
   "cell_type": "code",
   "execution_count": 3,
   "outputs": [],
   "source": [
    "%load_ext autoreload\n",
    "%autoreload 2\n",
    "\n",
    "import os\n",
    "\n",
    "import numpy as np\n",
    "import torch\n",
    "import torch.nn as nn\n",
    "import torch.nn.functional as F\n",
    "from torch.nn.utils import clip_grad_norm_\n",
    "from torch.utils.data import DataLoader\n",
    "\n",
    "from constants import DatasetPaths\n",
    "\n",
    "from DataLoader import SquadDataset, collate_fn, GloVeEmbeddings\n",
    "from models import EncoderBILSTM, DecoderLSTM\n",
    "from train import train, greedy_search"
   ],
   "metadata": {
    "collapsed": false
   }
  },
  {
   "cell_type": "code",
   "execution_count": 4,
   "outputs": [
    {
     "name": "stderr",
     "output_type": "stream",
     "text": [
      "'wget' is not recognized as an internal or external command,\n",
      "operable program or batch file.\n",
      "'unzip' is not recognized as an internal or external command,\n",
      "operable program or batch file.\n",
      "'rm' is not recognized as an internal or external command,\n",
      "operable program or batch file.\n",
      "'mv' is not recognized as an internal or external command,\n",
      "operable program or batch file.\n"
     ]
    }
   ],
   "source": [
    "!wget 'http://nlp.stanford.edu/data/glove.840B.300d.zip'\n",
    "!unzip 'glove.840B.300d.zip'\n",
    "!rm glove.840B.300d.zip\n",
    "!mv glove.840B.300d.txt data/"
   ],
   "metadata": {
    "collapsed": false
   }
  },
  {
   "cell_type": "code",
   "execution_count": 5,
   "outputs": [
    {
     "name": "stderr",
     "output_type": "stream",
     "text": [
      "A subdirectory or file dataset already exists.\n",
      "curl: (3) URL using bad/illegal format or missing URL\n",
      "curl: (3) URL using bad/illegal format or missing URL\n"
     ]
    }
   ],
   "source": [
    "!mkdir dataset\n",
    "!curl -o 'dataset/squad-train-v1.1.json' 'https://rajpurkar.github.io/SQuAD-explorer/dataset/train-v1.1.json'\n",
    "!curl -o 'dataset/squad-dev-v1.1.json' 'https://rajpurkar.github.io/SQuAD-explorer/dataset/dev-v1.1.json'"
   ],
   "metadata": {
    "collapsed": false
   }
  },
  {
   "cell_type": "code",
   "execution_count": 6,
   "outputs": [
    {
     "ename": "AssertionError",
     "evalue": "Dataset file [dataset/squad-train-v1.1.json] doesn't exist",
     "output_type": "error",
     "traceback": [
      "\u001B[1;31m---------------------------------------------------------------------------\u001B[0m",
      "\u001B[1;31mAssertionError\u001B[0m                            Traceback (most recent call last)",
      "Cell \u001B[1;32mIn[6], line 3\u001B[0m\n\u001B[0;32m      1\u001B[0m \u001B[38;5;28;01mfrom\u001B[39;00m \u001B[38;5;21;01mDataProcessor\u001B[39;00m \u001B[38;5;28;01mimport\u001B[39;00m SquadPreProcessor, GlovePreproccesor\n\u001B[1;32m----> 3\u001B[0m train_ds \u001B[38;5;241m=\u001B[39m \u001B[43mSquadPreProcessor\u001B[49m\u001B[43m(\u001B[49m\u001B[43mpath\u001B[49m\u001B[38;5;241;43m=\u001B[39;49m\u001B[43mDatasetPaths\u001B[49m\u001B[43m[\u001B[49m\u001B[38;5;124;43m\"\u001B[39;49m\u001B[38;5;124;43msquad\u001B[39;49m\u001B[38;5;124;43m\"\u001B[39;49m\u001B[43m]\u001B[49m\u001B[43m[\u001B[49m\u001B[38;5;124;43m\"\u001B[39;49m\u001B[38;5;124;43mtrain\u001B[39;49m\u001B[38;5;124;43m\"\u001B[39;49m\u001B[43m]\u001B[49m\u001B[43m,\u001B[49m\u001B[43m \u001B[49m\u001B[43msplit\u001B[49m\u001B[38;5;241;43m=\u001B[39;49m\u001B[38;5;124;43m\"\u001B[39;49m\u001B[38;5;124;43mtrain\u001B[39;49m\u001B[38;5;124;43m\"\u001B[39;49m\u001B[43m,\u001B[49m\u001B[43m \u001B[49m\u001B[43mq_vocab_size\u001B[49m\u001B[38;5;241;43m=\u001B[39;49m\u001B[38;5;241;43m45000\u001B[39;49m\u001B[43m,\u001B[49m\u001B[43m \u001B[49m\u001B[43ma_vocab_size\u001B[49m\u001B[38;5;241;43m=\u001B[39;49m\u001B[38;5;241;43m28000\u001B[39;49m\u001B[43m)\u001B[49m\n\u001B[0;32m      4\u001B[0m paragraphs, question_answer_pairs \u001B[38;5;241m=\u001B[39m train_ds\u001B[38;5;241m.\u001B[39mpreprocess()\n\u001B[0;32m      5\u001B[0m train_ds\u001B[38;5;241m.\u001B[39mpersist(paragraphs, question_answer_pairs)\n",
      "File \u001B[1;32mD:\\C Drive Backup\\IIITD\\Semester - 6\\Information Retrieval\\Project\\baseline\\DataProcessor.py:19\u001B[0m, in \u001B[0;36mSquadPreProcessor.__init__\u001B[1;34m(self, path, split, q_vocab_size, a_vocab_size, paragraphs_path, question_answer_pairs_path, q_word_idx_map, a_word_idx_map, q_idx_word_map, a_idx_word_map, q_word_to_idx_path, q_idx_to_word_path, a_word_to_idx_path, a_idx_to_word_path)\u001B[0m\n\u001B[0;32m     12\u001B[0m \u001B[38;5;28;01mdef\u001B[39;00m \u001B[38;5;21m__init__\u001B[39m(\u001B[38;5;28mself\u001B[39m, path, split, q_vocab_size: \u001B[38;5;28mint\u001B[39m\u001B[38;5;241m=\u001B[39m\u001B[38;5;28mfloat\u001B[39m(\u001B[38;5;124m\"\u001B[39m\u001B[38;5;124minf\u001B[39m\u001B[38;5;124m\"\u001B[39m), a_vocab_size: \u001B[38;5;28mint\u001B[39m\u001B[38;5;241m=\u001B[39m\u001B[38;5;28mfloat\u001B[39m(\u001B[38;5;124m\"\u001B[39m\u001B[38;5;124minf\u001B[39m\u001B[38;5;124m\"\u001B[39m),\n\u001B[0;32m     13\u001B[0m              paragraphs_path: \u001B[38;5;28mstr\u001B[39m \u001B[38;5;241m=\u001B[39m \u001B[38;5;28;01mNone\u001B[39;00m, question_answer_pairs_path: \u001B[38;5;28mstr\u001B[39m \u001B[38;5;241m=\u001B[39m \u001B[38;5;28;01mNone\u001B[39;00m,\n\u001B[0;32m     14\u001B[0m              q_word_idx_map\u001B[38;5;241m=\u001B[39m\u001B[38;5;28;01mNone\u001B[39;00m, a_word_idx_map\u001B[38;5;241m=\u001B[39m\u001B[38;5;28;01mNone\u001B[39;00m, q_idx_word_map\u001B[38;5;241m=\u001B[39m\u001B[38;5;28;01mNone\u001B[39;00m, a_idx_word_map\u001B[38;5;241m=\u001B[39m\u001B[38;5;28;01mNone\u001B[39;00m,\n\u001B[0;32m     15\u001B[0m              q_word_to_idx_path: \u001B[38;5;28mstr\u001B[39m \u001B[38;5;241m=\u001B[39m \u001B[38;5;28;01mNone\u001B[39;00m, q_idx_to_word_path: \u001B[38;5;28mstr\u001B[39m \u001B[38;5;241m=\u001B[39m \u001B[38;5;28;01mNone\u001B[39;00m, a_word_to_idx_path: \u001B[38;5;28mstr\u001B[39m \u001B[38;5;241m=\u001B[39m \u001B[38;5;28;01mNone\u001B[39;00m,\n\u001B[0;32m     16\u001B[0m              a_idx_to_word_path: \u001B[38;5;28mstr\u001B[39m \u001B[38;5;241m=\u001B[39m \u001B[38;5;28;01mNone\u001B[39;00m):\n\u001B[0;32m     18\u001B[0m     \u001B[38;5;28mself\u001B[39m\u001B[38;5;241m.\u001B[39mdataset_path \u001B[38;5;241m=\u001B[39m path\n\u001B[1;32m---> 19\u001B[0m     \u001B[38;5;28;01massert\u001B[39;00m os\u001B[38;5;241m.\u001B[39mpath\u001B[38;5;241m.\u001B[39misfile(\u001B[38;5;28mself\u001B[39m\u001B[38;5;241m.\u001B[39mdataset_path), \u001B[38;5;124m\"\u001B[39m\u001B[38;5;124mDataset file [\u001B[39m\u001B[38;5;132;01m%s\u001B[39;00m\u001B[38;5;124m] doesn\u001B[39m\u001B[38;5;124m'\u001B[39m\u001B[38;5;124mt exist\u001B[39m\u001B[38;5;124m\"\u001B[39m \u001B[38;5;241m%\u001B[39m \u001B[38;5;28mself\u001B[39m\u001B[38;5;241m.\u001B[39mdataset_path\n\u001B[0;32m     21\u001B[0m     \u001B[38;5;28mself\u001B[39m\u001B[38;5;241m.\u001B[39msplit \u001B[38;5;241m=\u001B[39m split\n\u001B[0;32m     23\u001B[0m     \u001B[38;5;28mself\u001B[39m\u001B[38;5;241m.\u001B[39mparagraphs_path \u001B[38;5;241m=\u001B[39m paragraphs_path \u001B[38;5;28;01mif\u001B[39;00m paragraphs_path \u001B[38;5;28;01melse\u001B[39;00m DatasetPaths[\u001B[38;5;124m\"\u001B[39m\u001B[38;5;124mparagraphs-path\u001B[39m\u001B[38;5;124m\"\u001B[39m] \u001B[38;5;241m%\u001B[39m \u001B[38;5;28mself\u001B[39m\u001B[38;5;241m.\u001B[39msplit\n",
      "\u001B[1;31mAssertionError\u001B[0m: Dataset file [dataset/squad-train-v1.1.json] doesn't exist"
     ]
    }
   ],
   "source": [
    "from DataProcessor import SquadPreProcessor, GlovePreproccesor\n",
    "\n",
    "train_ds = SquadPreProcessor(path=DatasetPaths[\"squad\"][\"train\"], split=\"train\", q_vocab_size=45000, a_vocab_size=28000)\n",
    "paragraphs, question_answer_pairs = train_ds.preprocess()\n",
    "train_ds.persist(paragraphs, question_answer_pairs)\n",
    "\n",
    "dev_ds = SquadPreProcessor(path=DatasetPaths[\"squad\"][\"dev\"], split=\"dev\", q_vocab_size=45000, a_vocab_size=28000)\n",
    "paragraphs, question_answer_pairs = dev_ds.preprocess()\n",
    "dev_ds.persist(paragraphs, question_answer_pairs)\n",
    "\n",
    "GlovePreproccesor().obtain_glove_embeddings(glove_filename=DatasetPaths[\"glove\"][\"original-embeddings\"],\n",
    "                                            word_to_ix=train_ds.a_word_to_idx,\n",
    "                                            pruned_glove_filename=DatasetPaths[\"glove\"][\"answer-embeddings\"])\n",
    "\n",
    "GlovePreproccesor().obtain_glove_embeddings(glove_filename=DatasetPaths[\"glove\"][\"original-embeddings\"],\n",
    "                                            word_to_ix=train_ds.q_word_to_idx,\n",
    "                                            pruned_glove_filename=DatasetPaths[\"glove\"][\"question-embeddings\"])\n"
   ],
   "metadata": {
    "collapsed": false
   }
  },
  {
   "cell_type": "code",
   "execution_count": null,
   "outputs": [],
   "source": [
    "\n",
    "import matplotlib.pyplot as plt\n",
    "%matplotlib inline\n",
    "import numpy as np\n",
    "\n",
    "def plot_losses(losses):\n",
    "  plt.plot(losses)\n",
    "\n",
    "  plt.xlabel('Epoch')\n",
    "  plt.ylabel('Loss')\n",
    "  plt.title('Loss vs Epoch')\n",
    "  plt.grid(True)\n",
    "\n",
    "  plt.show()\n"
   ],
   "metadata": {
    "collapsed": false
   }
  },
  {
   "cell_type": "code",
   "execution_count": null,
   "outputs": [],
   "source": [
    "use_cuda = torch.device('cuda') if torch.cuda.is_available() else torch.device('cpu')\n",
    "\n",
    "train_dataset = SquadDataset(split=\"train\")\n",
    "word_to_idx_sent = train_dataset.get_answer_word_to_idx()\n",
    "word_to_idx_q = train_dataset.get_question_idx_to_word()\n",
    "\n",
    "train_vocab_size_sent = len(word_to_idx_sent)\n",
    "train_vocab_size_q = len(word_to_idx_q)\n",
    "num_epoch = 15\n",
    "batch_size = 64\n",
    "train_loader = DataLoader(train_dataset, batch_size=batch_size, shuffle=True, num_workers=0, collate_fn=collate_fn, pin_memory=True)\n",
    "\n",
    "word_embeddings_glove_q = GloVeEmbeddings.load_glove_embeddings(True)\n",
    "word_embeddings_glove_sent = GloVeEmbeddings.load_glove_embeddings(False)\n",
    "\n",
    "encoder = EncoderBILSTM(vocab_size=train_vocab_size_sent, n_layers=2, embedding_dim=300, hidden_dim=500, dropout=0, embeddings=word_embeddings_glove_sent)\n",
    "decoder = DecoderLSTM(vocab_size=train_vocab_size_q, embedding_dim=300, hidden_dim=500, n_layers=1, encoder_hidden_dim=500, embeddings=word_embeddings_glove_q)\n",
    "\n",
    "if use_cuda:\n",
    "    encoder = encoder.cuda()\n",
    "    decoder = decoder.cuda()\n",
    "\n",
    "n_train = len(train_loader)\n",
    "batch_per_epoch = n_train // batch_size\n",
    "\n",
    "criterion = nn.CrossEntropyLoss(ignore_index=0)\n",
    "optimizer_enc = torch.optim.RMSprop(encoder.parameters(), lr=1, momentum=0.7)\n",
    "optimizer_dec = torch.optim.RMSprop(decoder.parameters(), lr=1, momentum=0.7)\n",
    "\n",
    "if not os.path.isdir(\"model_weights\"):\n",
    "    os.makedirs(\"model_weights\", exist_ok=True)\n",
    "\n",
    "losses= train(encoder=encoder, decoder=decoder, epoch_count=num_epoch, batch_per_epoch=batch_per_epoch, idx_to_word_q=None,\n",
    "                   train_loader=train_loader, criterion=criterion, optimizer_enc=optimizer_enc, optimizer_dec=optimizer_dec,\n",
    "                   is_cuda=use_cuda, debug=False)\n",
    "\n"
   ],
   "metadata": {
    "collapsed": false
   }
  },
  {
   "cell_type": "code",
   "execution_count": null,
   "outputs": [],
   "source": [
    "plot_losses(losses)"
   ],
   "metadata": {
    "collapsed": false
   }
  },
  {
   "cell_type": "code",
   "execution_count": null,
   "outputs": [],
   "source": [
    "def predict():\n",
    "  predict_batch_size = 10\n",
    "\n",
    "  dev_dataset = SquadDataset(split=\"dev\")\n",
    "\n",
    "  dev_loader = DataLoader(\n",
    "      dev_dataset, batch_size=predict_batch_size, shuffle=True, num_workers=0, collate_fn=collate_fn, pin_memory=True)\n",
    "  dev_idx_to_word_q = dev_dataset.get_question_idx_to_word()\n",
    "  dev_idx_to_word_sent = dev_dataset.get_answer_idx_to_word()\n",
    "\n",
    "  encoder = EncoderBILSTM(vocab_size=train_vocab_size_sent, n_layers=2, embedding_dim=300, hidden_dim=500, dropout=0, embeddings=word_embeddings_glove_sent)\n",
    "  decoder = DecoderLSTM(vocab_size=train_vocab_size_q, embedding_dim=300, hidden_dim=500, n_layers=1, encoder_hidden_dim=500, embeddings=word_embeddings_glove_q)\n",
    "  if use_cuda:\n",
    "    encoder.cuda()\n",
    "    decoder.cuda()\n",
    "  encoder.load_state_dict(torch.load(\"model_weights/1-encoder.pth\"))\n",
    "  decoder.load_state_dict(torch.load(\"model_weights/1-decoder.pth\"))\n",
    "\n",
    "  idx_to_word_sent = train_dataset.get_answer_idx_to_word()\n",
    "  idx_to_word_q = train_dataset.get_question_idx_to_word()\n",
    "\n",
    "  greedy_search(encoder, decoder, train_loader, True, idx_to_word_q, idx_to_word_sent, batch_size=predict_batch_size)\n",
    "  greedy_search(encoder, decoder, dev_loader, True, dev_idx_to_word_q, dev_idx_to_word_sent, batch_size=predict_batch_size)\n",
    "\n",
    "predict()\n"
   ],
   "metadata": {
    "collapsed": false
   }
  },
  {
   "cell_type": "code",
   "execution_count": null,
   "outputs": [],
   "source": [],
   "metadata": {
    "collapsed": false
   }
  }
 ],
 "metadata": {
  "kernelspec": {
   "display_name": "Python 3",
   "language": "python",
   "name": "python3"
  },
  "language_info": {
   "codemirror_mode": {
    "name": "ipython",
    "version": 2
   },
   "file_extension": ".py",
   "mimetype": "text/x-python",
   "name": "python",
   "nbconvert_exporter": "python",
   "pygments_lexer": "ipython2",
   "version": "2.7.6"
  }
 },
 "nbformat": 4,
 "nbformat_minor": 0
}
